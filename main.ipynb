{
 "cells": [
  {
   "cell_type": "markdown",
   "id": "b8985f55",
   "metadata": {},
   "source": [
    "### Pydantic"
   ]
  },
  {
   "cell_type": "code",
   "execution_count": 2,
   "id": "e31e1c39",
   "metadata": {},
   "outputs": [],
   "source": [
    "from pydantic import BaseModel"
   ]
  },
  {
   "cell_type": "code",
   "execution_count": 7,
   "id": "f4a6d763",
   "metadata": {},
   "outputs": [
    {
     "name": "stdout",
     "output_type": "stream",
     "text": [
      "name='lijo' age=28 city='kollam'\n"
     ]
    }
   ],
   "source": [
    "class Person(BaseModel):\n",
    "    name:str\n",
    "    age:int\n",
    "    city:str\n",
    "\n",
    "person = Person(name=\"lijo\", age=28, city=\"kollam\")\n",
    "print(person)\n"
   ]
  },
  {
   "cell_type": "markdown",
   "id": "8bd9d1a8",
   "metadata": {},
   "source": [
    "### Optional"
   ]
  },
  {
   "cell_type": "code",
   "execution_count": 14,
   "id": "790803f3",
   "metadata": {},
   "outputs": [],
   "source": [
    "from typing import Optional\n",
    "class Employee(BaseModel):\n",
    "    id:int\n",
    "    name:str\n",
    "    department:str\n",
    "    salary: Optional[float] = None\n",
    "    is_activate: Optional[bool] = True"
   ]
  },
  {
   "cell_type": "code",
   "execution_count": 15,
   "id": "b98f8ae4",
   "metadata": {},
   "outputs": [
    {
     "name": "stdout",
     "output_type": "stream",
     "text": [
      "id=1 name='lijo' department='IT' salary=None is_activate=True\n"
     ]
    }
   ],
   "source": [
    "emp1 = Employee(id=1, name=\"lijo\", department=\"IT\")\n",
    "print(emp1)"
   ]
  },
  {
   "cell_type": "code",
   "execution_count": 16,
   "id": "e4de60d5",
   "metadata": {},
   "outputs": [
    {
     "name": "stdout",
     "output_type": "stream",
     "text": [
      "id=1 name='lijo' department='IT' salary=30000.0 is_activate=True\n"
     ]
    }
   ],
   "source": [
    "emp2 = Employee(id=1, name=\"lijo\", department=\"IT\", salary=\"30000\")\n",
    "print(emp2)"
   ]
  },
  {
   "cell_type": "markdown",
   "id": "e4b0efe8",
   "metadata": {},
   "source": [
    "### List"
   ]
  },
  {
   "cell_type": "code",
   "execution_count": 23,
   "id": "da24e7f6",
   "metadata": {},
   "outputs": [],
   "source": [
    "from pydantic import BaseModel\n",
    "from typing import List\n",
    "\n",
    "class Classroom(BaseModel):\n",
    "    room_number:str\n",
    "    students: List[str]\n",
    "    capacity: int"
   ]
  },
  {
   "cell_type": "code",
   "execution_count": 26,
   "id": "b27a5f47",
   "metadata": {},
   "outputs": [
    {
     "name": "stdout",
     "output_type": "stream",
     "text": [
      "room_number='A01' students=['lijo', 'reshma', 'sijo'] capacity=30\n"
     ]
    }
   ],
   "source": [
    "class1 = Classroom(room_number=\"A01\", students=[\"lijo\", \"reshma\", \"sijo\"], capacity=30)\n",
    "print(class1)"
   ]
  },
  {
   "cell_type": "code",
   "execution_count": 27,
   "id": "56eef284",
   "metadata": {},
   "outputs": [
    {
     "name": "stdout",
     "output_type": "stream",
     "text": [
      "1 validation error for Classroom\n",
      "students.2\n",
      "  Input should be a valid string [type=string_type, input_value=143, input_type=int]\n",
      "    For further information visit https://errors.pydantic.dev/2.11/v/string_type\n"
     ]
    }
   ],
   "source": [
    "try:\n",
    "    invalid_val = Classroom(room_number=\"A01\", students=[\"lijo\", \"reshma\", 143], capacity=30)\n",
    "except ValueError as e:\n",
    "    print(e)"
   ]
  },
  {
   "cell_type": "markdown",
   "id": "45fd3c28",
   "metadata": {},
   "source": [
    "### Model with Nested Models"
   ]
  },
  {
   "cell_type": "code",
   "execution_count": 30,
   "id": "eecdf300",
   "metadata": {},
   "outputs": [
    {
     "name": "stdout",
     "output_type": "stream",
     "text": [
      "customer_id=1 name='lijo' address=Address(street='123 Main St', city='kollam', zip_code=691001)\n"
     ]
    }
   ],
   "source": [
    "from pydantic import BaseModel\n",
    "\n",
    "class Address(BaseModel):\n",
    "    street:str\n",
    "    city:str\n",
    "    zip_code:int\n",
    "\n",
    "class Customer(BaseModel):\n",
    "    customer_id:int\n",
    "    name:str\n",
    "    address:Address\n",
    "\n",
    "customer = Customer(customer_id=1,\n",
    "                     name=\"lijo\", \n",
    "                     address=Address(street=\"123 Main St\", city=\"kollam\", zip_code=\"691001\"))\n",
    "\n",
    "print(customer)"
   ]
  },
  {
   "cell_type": "markdown",
   "id": "15b9fd11",
   "metadata": {},
   "source": [
    "### Pydantic Fields: Customization and Constraints\n",
    "\n",
    "The field function in pydantic enchances model fields beyond basic type hints by allowing you to specify  \n",
    "validation rules default values, aliases and more."
   ]
  },
  {
   "cell_type": "code",
   "execution_count": 34,
   "id": "e40ec1f9",
   "metadata": {},
   "outputs": [
    {
     "name": "stdout",
     "output_type": "stream",
     "text": [
      "name='laptop' price=100.0 quantity=1\n"
     ]
    }
   ],
   "source": [
    "from pydantic import BaseModel, Field\n",
    "class Item(BaseModel):\n",
    "    name:str=Field(min_length=2, max_length=50)\n",
    "    price:float=Field(gt=0, le=1000)\n",
    "    quantity:int=Field(ge=0)\n",
    "\n",
    "\n",
    "item = Item(name=\"laptop\", price=100, quantity=1)\n",
    "print(item)\n"
   ]
  },
  {
   "cell_type": "code",
   "execution_count": 36,
   "id": "4bcb0bb3",
   "metadata": {},
   "outputs": [
    {
     "name": "stdout",
     "output_type": "stream",
     "text": [
      "username='Lijo' age=18 email='user@example.com'\n"
     ]
    }
   ],
   "source": [
    "from pydantic import BaseModel, Field\n",
    "\n",
    "class User(BaseModel):\n",
    "    username:str = Field(..., description=\"Unique username for the user\")\n",
    "    age:int=Field(default=18, description=\"User age, default is 18\")\n",
    "    email:str=Field(default_factory=lambda:\"user@example.com\", description=\"Default email address\")\n",
    "\n",
    "user1 = User(username=\"Lijo\")\n",
    "print(user1)"
   ]
  },
  {
   "cell_type": "code",
   "execution_count": 38,
   "id": "74089d9b",
   "metadata": {},
   "outputs": [
    {
     "name": "stdout",
     "output_type": "stream",
     "text": [
      "username='sijo' age=25 email='sijo@gmail.com'\n"
     ]
    }
   ],
   "source": [
    "user2 = User(username=\"sijo\",age=25,email=\"sijo@gmail.com\")\n",
    "print(user2)\n"
   ]
  },
  {
   "cell_type": "code",
   "execution_count": 41,
   "id": "5575d85b",
   "metadata": {},
   "outputs": [
    {
     "name": "stdout",
     "output_type": "stream",
     "text": [
      "{'properties': {'username': {'description': 'Unique username for the user', 'title': 'Username', 'type': 'string'}, 'age': {'default': 18, 'description': 'User age, default is 18', 'title': 'Age', 'type': 'integer'}, 'email': {'description': 'Default email address', 'title': 'Email', 'type': 'string'}}, 'required': ['username'], 'title': 'User', 'type': 'object'}\n"
     ]
    }
   ],
   "source": [
    "print(User.model_json_schema())"
   ]
  },
  {
   "cell_type": "code",
   "execution_count": null,
   "id": "9f8019ff",
   "metadata": {},
   "outputs": [],
   "source": []
  }
 ],
 "metadata": {
  "kernelspec": {
   "display_name": "base",
   "language": "python",
   "name": "python3"
  },
  "language_info": {
   "codemirror_mode": {
    "name": "ipython",
    "version": 3
   },
   "file_extension": ".py",
   "mimetype": "text/x-python",
   "name": "python",
   "nbconvert_exporter": "python",
   "pygments_lexer": "ipython3",
   "version": "3.12.7"
  }
 },
 "nbformat": 4,
 "nbformat_minor": 5
}
